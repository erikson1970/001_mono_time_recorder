{
 "cells": [
  {
   "cell_type": "code",
   "execution_count": null,
   "id": "e96cb46f",
   "metadata": {},
   "outputs": [
    {
     "name": "stdout",
     "output_type": "stream",
     "text": [
      "segm__ent_\n"
     ]
    }
   ],
   "source": [
    "import re\n",
    "pattern=\"segment_~C_~d~t_~l_secs\"\n",
    "help=\"Base filename pattern with tokens: ~D ~T (overall YYMMDD/HHMMSS), \" \\\n",
    "\"~d ~t (segment start YYMMDD/HHMMSS),~E ~e (segment end YYMMDD/HHMMSS),\"  \\\n",
    "\" ~C (counter), ~L (segment length HHMMSS).\"\n",
    "subs=[\"C\", \"D\", \"T\", \"d\", \"t\", \"E\", \"e\", \"L\", \"l\"]\n",
    "for i in subs:\n",
    "    pattern = pattern.replace(f\"~{i}\", f\"\")\n",
    "pattern=re.sub( re.compile(r'_+[^_]*$'), '_', pattern)\n",
    "print(pattern)\n"
   ]
  },
  {
   "cell_type": "code",
   "execution_count": null,
   "id": "3a298868",
   "metadata": {},
   "outputs": [],
   "source": []
  }
 ],
 "metadata": {
  "kernelspec": {
   "display_name": "astronomy",
   "language": "python",
   "name": "python3"
  },
  "language_info": {
   "codemirror_mode": {
    "name": "ipython",
    "version": 3
   },
   "file_extension": ".py",
   "mimetype": "text/x-python",
   "name": "python",
   "nbconvert_exporter": "python",
   "pygments_lexer": "ipython3",
   "version": "3.11.11"
  }
 },
 "nbformat": 4,
 "nbformat_minor": 5
}
